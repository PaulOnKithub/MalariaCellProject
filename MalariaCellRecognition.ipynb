{
  "cells": [
    {
      "cell_type": "markdown",
      "metadata": {
        "id": "view-in-github",
        "colab_type": "text"
      },
      "source": [
        "<a href=\"https://colab.research.google.com/github/PaulOnKithub/MalariaCellProject/blob/master/MalariaCellRecognition.ipynb\" target=\"_parent\"><img src=\"https://colab.research.google.com/assets/colab-badge.svg\" alt=\"Open In Colab\"/></a>"
      ]
    },
    {
      "cell_type": "code",
      "execution_count": null,
      "metadata": {
        "id": "2AWusFrbsyVH"
      },
      "outputs": [],
      "source": [
        "import tensorflow as tf\n",
        "from tensorflow.keras.applications import InceptionV3\n",
        "from tensorflow.keras.layers import Dense, GlobalAveragePooling2D\n",
        "from tensorflow.keras.models import Model\n",
        "\n",
        "base_model = InceptionV3(weights='imagenet', include_top=False, input_shape=(224, 224, 3))\n",
        "\n",
        "\n",
        "K = 100\n",
        "for layer in base_model.layers[:K]:\n",
        "    layer.trainable = False\n",
        "\n",
        "\n",
        "x = base_model.output\n",
        "x = GlobalAveragePooling2D()(x)  # Global Average Pooling to reduce spatial dimensions\n",
        "x = Dense(256, activation='relu')(x)\n",
        "x = Dense(128, activation='relu')(x)\n",
        "predictions = Dense(1, activation='sigmoid')(x)  # Binary classification (malaria-infected or not)\n",
        "\n",
        "\n",
        "Malaria_model = Model(inputs=base_model.input, outputs=predictions)\n",
        "\n",
        "\n",
        "Malaria_model.compile(optimizer='adam', loss='binary_crossentropy', metrics=['accuracy'])\n",
        "\n",
        "\n",
        "Malaria_model.summary()\n"
      ]
    },
    {
      "cell_type": "code",
      "source": [],
      "metadata": {
        "id": "S1eecnZZKQkD"
      },
      "execution_count": null,
      "outputs": []
    },
    {
      "cell_type": "code",
      "execution_count": 1,
      "metadata": {
        "colab": {
          "base_uri": "https://localhost:8080/"
        },
        "id": "jdxbXz4wD5Xk",
        "outputId": "e31f53f9-8459-488e-8c14-169c766e700b"
      },
      "outputs": [
        {
          "output_type": "stream",
          "name": "stdout",
          "text": [
            "Mounted at /content/drive\n"
          ]
        }
      ],
      "source": [
        "from google.colab import drive\n",
        "drive.mount('/content/drive')"
      ]
    },
    {
      "cell_type": "code",
      "execution_count": null,
      "metadata": {
        "id": "qxbnEyHwQo67"
      },
      "outputs": [],
      "source": [
        "from tensorflow.keras.preprocessing.image import ImageDataGenerator\n",
        "\n",
        "\n",
        "train_datagen = ImageDataGenerator(\n",
        "    rescale=1./255,\n",
        "    rotation_range=20,\n",
        "    width_shift_range=0.2,\n",
        "    height_shift_range=0.2,\n",
        "    shear_range=0.2,\n",
        "    zoom_range=0.2,\n",
        "    horizontal_flip=True,\n",
        "    fill_mode='nearest'\n",
        ")\n",
        "\n",
        "validation_datagen = ImageDataGenerator(rescale=1./255)\n",
        "\n",
        "\n",
        "path_to_train_folder = '/content/drive/MyDrive/kaggle/cell_images/Train'\n",
        "path_to_validation_folder = '/content/drive/MyDrive/kaggle/cell_images/Validate'\n",
        "\n",
        "\n",
        "\n",
        "train_data = train_datagen.flow_from_directory(\n",
        "    path_to_train_folder,\n",
        "    target_size=(224, 224),\n",
        "    batch_size=50,\n",
        "    class_mode='binary'\n",
        ")\n",
        "\n",
        "validation_data = validation_datagen.flow_from_directory(\n",
        "    path_to_validation_folder,\n",
        "    target_size=(224, 224),\n",
        "    batch_size=50,\n",
        "    class_mode='binary'\n",
        ")\n"
      ]
    },
    {
      "cell_type": "code",
      "execution_count": null,
      "metadata": {
        "colab": {
          "background_save": true,
          "base_uri": "https://localhost:8080/"
        },
        "id": "UuCZ19afatD6",
        "outputId": "28092cfb-cc0a-4035-d353-308c59563fce"
      },
      "outputs": [
        {
          "name": "stdout",
          "output_type": "stream",
          "text": [
            "Epoch 1/5\n",
            "113/541 [=====>........................] - ETA: 1:53:07 - loss: 0.1609 - accuracy: 0.9416"
          ]
        }
      ],
      "source": [
        "num_epochs = 5\n",
        "\n",
        "history = Malaria_model.fit(\n",
        "    train_data,\n",
        "    epochs=num_epochs,\n",
        "    validation_data=validation_data\n",
        ")"
      ]
    },
    {
      "cell_type": "code",
      "execution_count": null,
      "metadata": {
        "colab": {
          "base_uri": "https://localhost:8080/"
        },
        "id": "0T__Gg2opt0m",
        "outputId": "2d1e91ed-a882-473b-e61d-59c7792f902c"
      },
      "outputs": [
        {
          "name": "stdout",
          "output_type": "stream",
          "text": [
            "11/11 [==============================] - 68s 6s/step - loss: 0.2143 - accuracy: 0.9359\n",
            "Validation Loss: 0.21430881321430206\n",
            "Validation Accuracy: 0.9359223246574402\n"
          ]
        }
      ],
      "source": [
        "evaluation = Malaria_model.evaluate(validation_data)\n",
        "print(\"Validation Loss:\", evaluation[0])\n",
        "print(\"Validation Accuracy:\", evaluation[1])"
      ]
    },
    {
      "cell_type": "code",
      "execution_count": null,
      "metadata": {
        "id": "ToJB7QSzrPMP"
      },
      "outputs": [],
      "source": [
        "import matplotlib.pyplot as plt\n",
        "\n",
        "# Plot training and validation loss\n",
        "plt.figure(figsize=(10, 5))\n",
        "plt.subplot(1, 2, 1)\n",
        "plt.plot(history.history['loss'], label='Training Loss')\n",
        "plt.plot(history.history['val_loss'], label='Validation Loss')\n",
        "plt.legend()\n",
        "plt.xlabel('Epoch')\n",
        "plt.ylabel('Loss')\n",
        "plt.title('Training and Validation Loss')\n",
        "\n",
        "# Plot training and validation accuracy\n",
        "plt.subplot(1, 2, 2)\n",
        "plt.plot(history.history['accuracy'], label='Training Accuracy')\n",
        "plt.plot(history.history['val_accuracy'], label='Validation Accuracy')\n",
        "plt.legend()\n",
        "plt.xlabel('Epoch')\n",
        "plt.ylabel('Accuracy')\n",
        "plt.title('Training and Validation Accuracy')\n",
        "\n",
        "plt.tight_layout()\n",
        "plt.show()\n"
      ]
    },
    {
      "cell_type": "code",
      "execution_count": null,
      "metadata": {
        "id": "LIBX4BeRxHFj"
      },
      "outputs": [],
      "source": [
        "# Saving the trained model\n",
        "Malaria_model.save('/content/drive/MyDrive/kaggle/trained_malaria_model.h5')\n"
      ]
    },
    {
      "cell_type": "code",
      "source": [
        "!pip install tf2onnx"
      ],
      "metadata": {
        "id": "6FQB3Bff7H6L"
      },
      "execution_count": null,
      "outputs": []
    },
    {
      "cell_type": "code",
      "source": [
        "import tensorflow as tf\n",
        "\n",
        "model_path = '/content/drive/MyDrive/kaggle/trained_malaria_model.h5'\n",
        "model = tf.keras.models.load_model(model_path)\n"
      ],
      "metadata": {
        "id": "trRHSPSx7NiC"
      },
      "execution_count": 4,
      "outputs": []
    },
    {
      "cell_type": "code",
      "source": [
        "import tf2onnx\n",
        "onnx_model, _ = tf2onnx.convert.from_keras(model)"
      ],
      "metadata": {
        "id": "VjBlt8d_7sZw"
      },
      "execution_count": 5,
      "outputs": []
    },
    {
      "cell_type": "code",
      "source": [
        "# Saving the ONNX model to Google Drive\n",
        "onnx_model_path = '/content/drive/MyDrive/kaggle/trained_malaria_model.onnx'\n",
        "with open(onnx_model_path, 'wb') as f:\n",
        "    f.write(onnx_model.SerializeToString())\n"
      ],
      "metadata": {
        "id": "js7DJ21j89F2"
      },
      "execution_count": 8,
      "outputs": []
    },
    {
      "cell_type": "code",
      "source": [
        "!pip install onnxruntime\n"
      ],
      "metadata": {
        "id": "gI97JSir_xK9"
      },
      "execution_count": null,
      "outputs": []
    },
    {
      "cell_type": "code",
      "source": [
        "import cv2\n",
        "import numpy as np\n",
        "import onnxruntime\n",
        "\n",
        "# Creating an ONNX Runtime inference session\n",
        "ort_session = onnxruntime.InferenceSession(onnx_model_path)\n",
        "\n",
        "# Loading and preprocessing a test image\n",
        "image_path = '/content/drive/MyDrive/kaggle/test_image.png'\n",
        "image = cv2.imread(image_path)\n",
        "image = cv2.cvtColor(image, cv2.COLOR_BGR2RGB)  # Convert to RGB\n",
        "image = cv2.resize(image, (224, 224))  # Resize to match the model's input size\n",
        "image = image.astype(np.float32) / 255.0  # Normalize pixel values\n",
        "\n",
        "# Preparing the input tensor\n",
        "input_name = ort_session.get_inputs()[0].name\n",
        "input_data = np.expand_dims(image, axis=0)\n",
        "\n",
        "# Running inference\n",
        "output = ort_session.run(None, {input_name: input_data})\n",
        "\n",
        "# finding the class with the highest probability\n",
        "predicted_class_index = np.argmax(output)\n",
        "\n",
        "class_labels = {\n",
        "    0: \"Parasitized\",\n",
        "    1: \"Uninfected\"\n",
        "}\n",
        "\n",
        "predicted_class_label = class_labels.get(predicted_class_index, \"Unknown\")\n",
        "\n",
        "# Print the predicted class label\n",
        "print(\"Predicted Class:\", predicted_class_label)\n"
      ],
      "metadata": {
        "colab": {
          "base_uri": "https://localhost:8080/"
        },
        "id": "yo6K7hJcB6Nf",
        "outputId": "a0580c77-2131-4df2-bcc2-6049ba1177a3"
      },
      "execution_count": 21,
      "outputs": [
        {
          "output_type": "stream",
          "name": "stdout",
          "text": [
            "Predicted Class: Parasitized\n"
          ]
        }
      ]
    },
    {
      "cell_type": "code",
      "source": [
        "import tensorflow as tf\n",
        "import cv2\n",
        "import numpy as np\n",
        "\n",
        "# Loading the Keras model from the H5 file\n",
        "model = tf.keras.models.load_model('/content/drive/MyDrive/kaggle/trained_malaria_model.h5')\n",
        "\n",
        "# Loading and preprocessing a test image\n",
        "image_path = '/content/drive/MyDrive/kaggle/test_image4.png'\n",
        "image = cv2.imread(image_path)\n",
        "image = cv2.cvtColor(image, cv2.COLOR_BGR2RGB)  # Convert to RGB\n",
        "image = cv2.resize(image, (224, 224))  # Resize to match the model's input size\n",
        "image = image.astype(np.float32) / 255.0  # Normalize pixel values\n",
        "\n",
        "# Preparing the input tensor\n",
        "input_data = np.expand_dims(image, axis=0)\n",
        "\n",
        "# Running inference\n",
        "predictions = model.predict(input_data)\n",
        "\n",
        "# finding the class with the highest probability\n",
        "predicted_class = np.argmax(predictions)\n",
        "\n",
        "# Printing the predicted class\n",
        "print(\"Predicted Class:\", predicted_class)\n"
      ],
      "metadata": {
        "colab": {
          "base_uri": "https://localhost:8080/"
        },
        "id": "RIaOyVL-KToL",
        "outputId": "ca8f7ff2-bc6a-42cd-b5c8-ced2890337ff"
      },
      "execution_count": 25,
      "outputs": [
        {
          "output_type": "stream",
          "name": "stdout",
          "text": [
            "1/1 [==============================] - 2s 2s/step\n",
            "Predicted Class: 0\n"
          ]
        }
      ]
    }
  ],
  "metadata": {
    "accelerator": "TPU",
    "colab": {
      "provenance": [],
      "authorship_tag": "ABX9TyMY12eOo1VMxlEdB5kcaNmK",
      "include_colab_link": true
    },
    "kernelspec": {
      "display_name": "Python 3",
      "name": "python3"
    },
    "language_info": {
      "name": "python"
    }
  },
  "nbformat": 4,
  "nbformat_minor": 0
}